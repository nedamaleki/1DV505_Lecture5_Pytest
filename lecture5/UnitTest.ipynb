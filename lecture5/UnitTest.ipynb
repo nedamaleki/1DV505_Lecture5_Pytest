{
 "cells": [
  {
   "cell_type": "code",
   "execution_count": 6,
   "id": "0bea1701-85e3-40d3-88c3-a3da4f58aec3",
   "metadata": {},
   "outputs": [
    {
     "name": "stdout",
     "output_type": "stream",
     "text": [
      "All tests passed!\n"
     ]
    }
   ],
   "source": [
    "# Function to test\n",
    "def add_numbers(a, b):\n",
    "    return a + b\n",
    "\n",
    "# Unit tests\n",
    "def test_add_numbers():\n",
    "    assert add_numbers(1, 2) == 3  # Test 1: Basic addition\n",
    "    assert add_numbers(-1, -2) == -3  # Test 2: Negative numbers\n",
    "    assert add_numbers(0, 0) == 0  # Test 3: Adding zeros\n",
    "    print(\"All tests passed!\")\n",
    "\n",
    "# Test runner\n",
    "if __name__ == \"__main__\":\n",
    "    test_add_numbers()\n"
   ]
  },
  {
   "cell_type": "code",
   "execution_count": null,
   "id": "c32e57c2-8c53-456d-bf8f-42e69d714140",
   "metadata": {},
   "outputs": [],
   "source": []
  }
 ],
 "metadata": {
  "kernelspec": {
   "display_name": "Python 3 (ipykernel)",
   "language": "python",
   "name": "python3"
  },
  "language_info": {
   "codemirror_mode": {
    "name": "ipython",
    "version": 3
   },
   "file_extension": ".py",
   "mimetype": "text/x-python",
   "name": "python",
   "nbconvert_exporter": "python",
   "pygments_lexer": "ipython3",
   "version": "3.12.5"
  }
 },
 "nbformat": 4,
 "nbformat_minor": 5
}
